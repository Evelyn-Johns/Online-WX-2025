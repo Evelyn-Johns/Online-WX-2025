{
 "cells": [
  {
   "cell_type": "markdown",
   "id": "6216afe8-f719-4d2a-bb46-80863d826ee5",
   "metadata": {},
   "source": [
    "### Documentation"
   ]
  },
  {
   "cell_type": "markdown",
   "id": "3096f87a-2435-4cbb-9306-8556eeed13c7",
   "metadata": {},
   "source": [
    "Put documentation here!"
   ]
  },
  {
   "cell_type": "code",
   "execution_count": null,
   "id": "d4613f03-6268-40ae-9331-31cd2cdb0eff",
   "metadata": {},
   "outputs": [],
   "source": []
  }
 ],
 "metadata": {
  "kernelspec": {
   "display_name": "Python 3 (ipykernel)",
   "language": "python",
   "name": "python3"
  },
  "language_info": {
   "codemirror_mode": {
    "name": "ipython",
    "version": 3
   },
   "file_extension": ".py",
   "mimetype": "text/x-python",
   "name": "python",
   "nbconvert_exporter": "python",
   "pygments_lexer": "ipython3",
   "version": "3.12.7"
  }
 },
 "nbformat": 4,
 "nbformat_minor": 5
}
