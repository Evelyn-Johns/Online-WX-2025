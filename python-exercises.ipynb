{
 "cells": [
  {
   "cell_type": "markdown",
   "id": "796615df",
   "metadata": {},
   "source": [
    "### Some python exercises for you to try:"
   ]
  },
  {
   "cell_type": "markdown",
   "id": "c780c253-1dd0-462b-8686-66b1704b949f",
   "metadata": {},
   "source": [
    "-------------"
   ]
  },
  {
   "cell_type": "markdown",
   "id": "d4a266e6-9c7b-4015-849d-57bfa77b6019",
   "metadata": {},
   "source": [
    "Take an integer and print whether it is even or odd."
   ]
  },
  {
   "cell_type": "code",
   "execution_count": null,
   "id": "80adaf99-fbf7-4999-b11a-4549d2d7d002",
   "metadata": {},
   "outputs": [],
   "source": [
    "test1 = 59\n",
    "test2 = 4\n",
    "test3 = 30\n",
    "\n",
    "def evenOrOdd(integer):\n",
    "\n",
    "    # code here!\n"
   ]
  },
  {
   "cell_type": "code",
   "execution_count": null,
   "id": "fd413e51-0661-4541-ace6-7d4e790a8b88",
   "metadata": {},
   "outputs": [],
   "source": [
    "evenOrOdd(test1)\n",
    "evenOrOdd(test2)\n",
    "evenOrOdd(test3)"
   ]
  },
  {
   "cell_type": "markdown",
   "id": "e06d2861-7651-48f2-aed5-8e57993e7908",
   "metadata": {},
   "source": [
    "------------"
   ]
  },
  {
   "cell_type": "markdown",
   "id": "2e082837-3c57-4432-9a10-b497141687e5",
   "metadata": {},
   "source": [
    "Take a list and print out all the elements of the list that are less than 5."
   ]
  },
  {
   "cell_type": "code",
   "execution_count": null,
   "id": "5616654d-4b36-4e58-be2c-22ff87c83791",
   "metadata": {},
   "outputs": [],
   "source": [
    "test4 = [1, 1, 2, 3, 5, 8, 13, 21, 34, 55, 89]\n",
    "\n",
    "def lessThanFive(list):\n",
    "\n",
    "    # code here!\n"
   ]
  },
  {
   "cell_type": "code",
   "execution_count": null,
   "id": "9ccdfba9-9485-43d6-839a-3116deba7c76",
   "metadata": {},
   "outputs": [],
   "source": [
    "lessThanFive(test4)"
   ]
  },
  {
   "cell_type": "markdown",
   "id": "57410b8c-6f34-43fb-afcf-8f1466e533f3",
   "metadata": {},
   "source": [
    "-----------------"
   ]
  },
  {
   "cell_type": "markdown",
   "id": "8de16b04-b289-49ce-afea-3be26c7c8b61",
   "metadata": {},
   "source": [
    "Take a string and remove all the vowels from it.\n",
    "\n",
    "For example \n",
    "\"python\" -> \"pythn\""
   ]
  },
  {
   "cell_type": "code",
   "execution_count": null,
   "id": "0cb8bda5-2fb9-40cd-8985-6bdaba9d6911",
   "metadata": {},
   "outputs": [],
   "source": [
    "test5 = \"work\"\n",
    "test6 = \"experience\"\n",
    "\n",
    "def removeVowels(string):\n",
    "\n",
    "    # code here!\n"
   ]
  },
  {
   "cell_type": "code",
   "execution_count": null,
   "id": "9a253d7d-59b4-474f-8966-13a03bcb8139",
   "metadata": {},
   "outputs": [],
   "source": [
    "removeVowels(test5)\n",
    "removeVowels(test6)"
   ]
  }
 ],
 "metadata": {
  "kernelspec": {
   "display_name": "Python 3 (ipykernel)",
   "language": "python",
   "name": "python3"
  },
  "language_info": {
   "codemirror_mode": {
    "name": "ipython",
    "version": 3
   },
   "file_extension": ".py",
   "mimetype": "text/x-python",
   "name": "python",
   "nbconvert_exporter": "python",
   "pygments_lexer": "ipython3",
   "version": "3.12.7"
  }
 },
 "nbformat": 4,
 "nbformat_minor": 5
}
